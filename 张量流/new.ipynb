{
 "cells": [
  {
   "cell_type": "code",
   "execution_count": 8,
   "id": "4157ce31",
   "metadata": {},
   "outputs": [
    {
     "name": "stdout",
     "output_type": "stream",
     "text": [
      "[0.0015683  0.00426308 0.01158826 0.03150015 0.0856263  0.23275642\n",
      " 0.6326975 ]\n"
     ]
    }
   ],
   "source": [
    "import tensorflow as tf\n",
    "pred = tf.nn.softmax([0.,1.,2.,3.,4.,5.,6.])\n",
    "sess = tf.Session()  \n",
    "print(sess.run(pred)) \n",
    "# 一、tensorflow 如果直接打印pred，返回的是对象，无法显示对象内容\n",
    "# tf.nn.softmax(logits,axis=None,name=None,dim=None)\n",
    "# 输入: 全连接层（往往是模型的最后一层）的值， 输出: 归一化的值，含义是属于该位置的概率;"
   ]
  },
  {
   "cell_type": "code",
   "execution_count": 17,
   "id": "14b0f8f5",
   "metadata": {},
   "outputs": [
    {
     "name": "stdout",
     "output_type": "stream",
     "text": [
      "7\n",
      "1\n"
     ]
    }
   ],
   "source": [
    "x = tf.constant([[1, 2, 2], [0, 1, 1]])\n",
    "sess = tf.Session() \n",
    "print(sess.run(tf.reduce_sum(x))) # 6 默认值为None,则缩小所有尺寸.\n",
    "print(sess.run(tf.reduce_mean(x))) # 6 默认值为None,则缩小所有尺寸."
   ]
  },
  {
   "cell_type": "code",
   "execution_count": null,
   "id": "8dc4a370",
   "metadata": {},
   "outputs": [],
   "source": []
  },
  {
   "cell_type": "code",
   "execution_count": null,
   "id": "f54c1f5f",
   "metadata": {},
   "outputs": [],
   "source": []
  },
  {
   "cell_type": "code",
   "execution_count": null,
   "id": "51611ce6",
   "metadata": {},
   "outputs": [],
   "source": []
  }
 ],
 "metadata": {
  "kernelspec": {
   "display_name": "Python 3",
   "language": "python",
   "name": "python3"
  },
  "language_info": {
   "codemirror_mode": {
    "name": "ipython",
    "version": 3
   },
   "file_extension": ".py",
   "mimetype": "text/x-python",
   "name": "python",
   "nbconvert_exporter": "python",
   "pygments_lexer": "ipython3",
   "version": "3.6.13"
  }
 },
 "nbformat": 4,
 "nbformat_minor": 5
}
