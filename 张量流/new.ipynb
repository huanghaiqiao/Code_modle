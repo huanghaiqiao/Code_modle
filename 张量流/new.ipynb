{
 "cells": [
  {
   "cell_type": "code",
   "execution_count": 1,
   "id": "4024538e",
   "metadata": {},
   "outputs": [
    {
     "name": "stdout",
     "output_type": "stream",
     "text": [
      "[0.0015683  0.00426308 0.01158826 0.03150015 0.0856263  0.23275642\n",
      " 0.6326975 ]\n"
     ]
    }
   ],
   "source": [
    "import tensorflow as tf\n",
    "pred = tf.nn.softmax([0.,1.,2.,3.,4.,5.,6.])\n",
    "sess = tf.Session()  \n",
    "print(sess.run(pred)) \n",
    "# 一、tensorflow 如果直接打印pred，返回的是对象，无法显示对象内容\n",
    "# tf.nn.softmax(logits,axis=None,name=None,dim=None)\n",
    "# 输入: 全连接层（往往是模型的最后一层）的值， 输出: 归一化的值，含义是属于该位置的概率;"
   ]
  },
  {
   "cell_type": "code",
   "execution_count": 2,
   "id": "bad155fe",
   "metadata": {},
   "outputs": [
    {
     "name": "stdout",
     "output_type": "stream",
     "text": [
      "7\n",
      "1\n"
     ]
    }
   ],
   "source": [
    "x = tf.constant([[1, 2, 2], [0, 1, 1]])\n",
    "sess = tf.Session() \n",
    "print(sess.run(tf.reduce_sum(x))) # 6 默认值为None,则缩小所有尺寸.\n",
    "print(sess.run(tf.reduce_mean(x))) # 6 默认值为None,则缩小所有尺寸."
   ]
  },
  {
   "cell_type": "code",
   "execution_count": 3,
   "id": "69bd4d3f",
   "metadata": {},
   "outputs": [
    {
     "name": "stdout",
     "output_type": "stream",
     "text": [
      "(2, 4)\n",
      "7\n",
      "[0 1 0 1]\n",
      "[2 3]\n"
     ]
    }
   ],
   "source": [
    "import numpy as np\n",
    "a = np.array([[2, 4, 6, 1], [1, 5, 2, 9]])\n",
    "print(a.shape)\n",
    "print(np.argmax(a))\n",
    "print(np.argmax(a, axis=0))  #竖着比较，返回行号\n",
    "print(np.argmax(a, axis=1))  #横着比较，返回列号"
   ]
  },
  {
   "cell_type": "code",
   "execution_count": 4,
   "id": "adb716f3",
   "metadata": {},
   "outputs": [
    {
     "name": "stdout",
     "output_type": "stream",
     "text": [
      "[4 2 1 3 0]\n",
      "[9 7 6 8 5]\n"
     ]
    }
   ],
   "source": [
    "a = np.array([0,1,2,3,4])\n",
    "b = np.array([5,6,7,8,9])\n",
    "# 注意一下顺序，a和b是跟随着，随机打乱\n",
    "state = np.random.get_state()\n",
    "np.random.shuffle(a)\n",
    "np.random.set_state(state)\n",
    "np.random.shuffle(b)\n",
    "print(a)\n",
    "print(b)"
   ]
  },
  {
   "cell_type": "code",
   "execution_count": 5,
   "id": "abb66951",
   "metadata": {},
   "outputs": [
    {
     "name": "stdout",
     "output_type": "stream",
     "text": [
      "[0 3]\n",
      "[0 0]\n"
     ]
    }
   ],
   "source": [
    "m = np.array([0,1,2,0,4])\n",
    "# 多维数组禁用\n",
    "each_type_index= np.where(m == 0)[0]\n",
    "print(each_type_index)\n",
    "print(m[each_type_index])"
   ]
  },
  {
   "cell_type": "code",
   "execution_count": null,
   "id": "d73e04ea",
   "metadata": {},
   "outputs": [],
   "source": [
    "# 笔记\n",
    "1、tensorflow 需要打印tensor，需要使用sess.run(pred)，否则打印是对象\n",
    "2、mnist数据集要to one hot\n",
    "3、输入图片需要打乱数据"
   ]
  }
 ],
 "metadata": {
  "kernelspec": {
   "display_name": "Python 3",
   "language": "python",
   "name": "python3"
  },
  "language_info": {
   "codemirror_mode": {
    "name": "ipython",
    "version": 3
   },
   "file_extension": ".py",
   "mimetype": "text/x-python",
   "name": "python",
   "nbconvert_exporter": "python",
   "pygments_lexer": "ipython3",
   "version": "3.6.13"
  }
 },
 "nbformat": 4,
 "nbformat_minor": 5
}
