      "text/plain": [
       "<Figure size 432x288 with 3 Axes>"
      ]
     },
     "metadata": {
      "needs_background": "light"
     },
     "output_type": "display_data"
    }
   ],
   "source": [
    "import cv2    # 安装 pip install opencv-python\n",
    "import matplotlib.pyplot as plt    # plt 用于显示图片\n",
    "im1=cv2.imread(\"./data/cat.jpg\",cv2.IMREAD_COLOR)\n",
    "im2=cv2.imread(\"./data/cat.jpg\",cv2.IMREAD_GRAYSCALE)\n",
    "im3=cv2.imread(\"./data/cat.jpg\",cv2.IMREAD_UNCHANGED)\n",
    "fig,ax = plt.subplots(ncols=3,nrows=1) # 显示一行多列图片\n",
    "\n",
    "im1=cv2.cvtColor(im1,cv2.COLOR_BGR2RGB)\n",
    "im2=cv2.cvtColor(im2,cv2.COLOR_BGR2RGB)\n",
    "im3=cv2.cvtColor(im3,cv2.COLOR_BGR2RGB)\n",
    "ax[0].imshow(im1)\n",
    "ax[1].imshow(im2)\n",
    "ax[2].imshow(im3)"
   ]
  },
  {
   "cell_type": "code",
   "execution_count": 34,
   "id": "2390ddd9",
   "metadata": {},
   "outputs": [
    {
     "name": "stdout",
     "output_type": "stream",
     "text": [
      "1 0 -1\n"
     ]
    }
   ],
   "source": [
    "print(cv2.IMREAD_COLOR, cv2.IMREAD_GRAYSCALE, cv2.IMREAD_UNCHANGED)"
   ]
  }
 ],
 "metadata": {
  "kernelspec": {
   "display_name": "Python 3",
   "language": "python",
   "name": "python3"
  },
  "language_info": {
   "codemirror_mode": {
    "name": "ipython",
    "version": 3
   },
   "file_extension": ".py",
   "mimetype": "text/x-python",
   "name": "python",
   "nbconvert_exporter": "python",
   "pygments_lexer": "ipython3",
   "version": "3.6.13"
  }
 },
 "nbformat": 4,
 "nbformat_minor": 5
}
